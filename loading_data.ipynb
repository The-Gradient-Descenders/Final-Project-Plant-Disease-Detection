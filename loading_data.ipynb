{
 "cells": [
  {
   "cell_type": "code",
   "execution_count": null,
   "metadata": {},
   "outputs": [],
   "source": [
    "from collections import Counter\n",
    "import matplotlib.pyplot as plt"
   ]
  },
  {
   "cell_type": "code",
   "execution_count": null,
   "metadata": {},
   "outputs": [],
   "source": [
    "a = np.memmap(\"./data/train_labels_plantVillage.pkl\", mode='r', shape=(40727,))\n",
    "data = db.load(\"./data/train_labels_plantVillage.pkl\")\n",
    "print(data[:5])\n",
    "print(np.shape(data))\n",
    "print(Counter(data.flatten()))\n",
    "print(Counter(a))\n",
    "b = np.memmap(\"./data/train_labels_plantDocs.pkl\", shape=(189,))\n",
    "#print(Counter(b))\n",
    "c = np.concatenate((a, b), axis=0)\n",
    "#print(Counter(c))\n",
    "np.save(\"test_data_images\", c)"
   ]
  },
  {
   "cell_type": "code",
   "execution_count": null,
   "metadata": {},
   "outputs": [],
   "source": [
    "#del data\n",
    "del x\n",
    "data = db.load(\"./data/train_images_plantVillage.pkl\")\n",
    "x = np.memmap(\"./village_train_img.dat\", dtype=\"uint8\", mode=\"w+\", shape=(42597, 256, 256, 3))\n",
    "x[:data.shape[0]] = data\n",
    "del data\n",
    "plt.imshow(x[0])\n"
   ]
  },
  {
   "cell_type": "code",
   "execution_count": null,
   "metadata": {},
   "outputs": [],
   "source": [
    "data2 = db.load(\"./data/train_images_plantDocs.pkl\")\n",
    "x[40727:] = data2.astype(\"uint8\")\n",
    "del data2\n",
    "plt.imshow(x[-1])"
   ]
  },
  {
   "cell_type": "code",
   "execution_count": null,
   "metadata": {},
   "outputs": [],
   "source": [
    "plt.imshow(x[-6])"
   ]
  },
  {
   "cell_type": "code",
   "execution_count": null,
   "metadata": {},
   "outputs": [],
   "source": [
    "# Convert data into np.ndarray format\n",
    "\n",
    "plantDoc_images = np.ndarray([1, 256, 256, 3])\n",
    "plantDoc_labels = np.ndarray([1])\n",
    "plantDoc_images_test = np.ndarray([1, 256, 256, 3])\n",
    "plantDoc_labels_test = np.ndarray([1])\n",
    "\n",
    "count = 0\n",
    "for image_batch, labels_batch in train_ds:\n",
    "#   if count % 5 == 0:\n",
    "#     print(\"Batch number\", count)\n",
    "  plantDoc_images = np.append(plantDoc_images, image_batch.numpy(), axis = 0)\n",
    "  plantDoc_labels = np.append(plantDoc_labels, labels_batch.numpy(), axis = 0)\n",
    "  count += 1\n",
    "\n",
    "print(plantDoc_images.shape, plantDoc_labels.shape)\n",
    "\n",
    "count = 0\n",
    "for image_batch, labels_batch in test_ds:\n",
    "#   if count % 5 == 0:\n",
    "#     print(\"Batch number\", count)\n",
    "  plantDoc_images_test = np.append(plantDoc_images_test, image_batch.numpy(), axis = 0)\n",
    "  plantDoc_labels_test = np.append(plantDoc_labels_test, labels_batch.numpy(), axis = 0)\n",
    "  count += 1\n",
    "\n",
    "print(plantDoc_images_test.shape, plantDoc_labels_test.shape)"
   ]
  },
  {
   "cell_type": "code",
   "execution_count": null,
   "metadata": {},
   "outputs": [],
   "source": [
    "# Shuffle data\n",
    "np.random.shuffle(img)\n",
    "np.random.shuffle(labels)\n",
    "\n",
    "np.random.shuffle(plantDoc_images)\n",
    "np.random.shuffle(plantDoc_labels)\n",
    "np.random.shuffle(plantDoc_images_test)\n",
    "np.random.shuffle(plantDoc_labels_test)"
   ]
  },
  {
   "cell_type": "code",
   "execution_count": null,
   "metadata": {},
   "outputs": [],
   "source": [
    "# Save data to files\n",
    "with open(\"train_images.pkl\", mode=\"wb\") as opened_file:\n",
    "    pickle.dump(train_images, opened_file)\n",
    "with open(\"test_images.pkl\", mode=\"wb\") as opened_file:\n",
    "    pickle.dump(test_images, opened_file)\n",
    "with open(\"train_labels.pkl\", mode=\"wb\") as opened_file:\n",
    "    pickle.dump(train_labels, opened_file)\n",
    "with open(\"test_labels.pkl\", mode=\"wb\") as opened_file:\n",
    "    pickle.dump(test_labels, opened_file)"
   ]
  },
  {
   "cell_type": "code",
   "execution_count": null,
   "metadata": {},
   "outputs": [],
   "source": [
    "#pretrain model from tensorflow hub\n",
    "\n",
    "url = \"https://tfhub.dev/tensorflow/faster_rcnn/resnet152_v1_1024x1024/1\"\n",
    "\n",
    "base_model = hub.KerasLayer(handle=url, input_shape=(256, 256, 3))\n",
    "base_model.trainable = False\n",
    "# model = keras.Sequential([\n",
    "#     base_model,\n",
    "#     layers.Dense(38, activation=\"relu\"),\n",
    "# ])\n",
    "print(type(base_model))\n",
    "model = keras.Sequential()\n",
    "model.add(base_model)\n",
    "model.add(layers.Dense(38, activation=\"relu\"))"
   ]
  },
  {
   "cell_type": "code",
   "execution_count": null,
   "metadata": {},
   "outputs": [],
   "source": [
    "tuned_model.compile(\n",
    "    optimizer=keras.optimizers.Adam(),\n",
    "    loss=keras.losses.SparseCategoricalCrossentropy(from_logits=True),\n",
    "    metrics=[\"accuracy\"],\n",
    ")"
   ]
  },
  {
   "cell_type": "code",
   "execution_count": null,
   "metadata": {},
   "outputs": [],
   "source": [
    "import numpy as np\n",
    "x = np.arange(12).reshape(1,3,4)\n",
    "y = np.arange(24).reshape(2,3,4)\n",
    "z = np.concatenate((x, y), axis=0)\n",
    "z"
   ]
  },
  {
   "cell_type": "code",
   "execution_count": null,
   "metadata": {},
   "outputs": [],
   "source": [
    "import tensorflow as tf \n",
    "from tensorflow import keras\n",
    "from tensorflow.keras import layers, models\n",
    "import tensorflow_hub as hub\n",
    "import pathlib\n",
    "import deeplake\n",
    "import numpy as np\n",
    "from sklearn.utils import shuffle\n",
    "from load_data import Database\n",
    "import time"
   ]
  },
  {
   "cell_type": "code",
   "execution_count": null,
   "metadata": {},
   "outputs": [],
   "source": [
    "db = Database()\n",
    "##data = db.load(\"./data/train_images_plantVillage.pkl\")\n",
    "x = np.memmap(\"./data/train_images_plantVillage.pkl\", shape=(40727, 256, 256, 3))\n",
    "\n",
    "y = np.memmap(\"./data/train_images_plantDocs.pkl\", shape=(1874, 256, 256, 3))\n",
    "z = np.concatenate((x, y), axis=0)\n",
    "\n",
    "\n"
   ]
  },
  {
   "cell_type": "code",
   "execution_count": null,
   "metadata": {},
   "outputs": [],
   "source": [
    "print(z.shape)\n",
    "z.dtype\n",
    "print(z[42000].shape)"
   ]
  },
  {
   "cell_type": "code",
   "execution_count": null,
   "metadata": {},
   "outputs": [],
   "source": [
    "np.save(\"train_data\", z)"
   ]
  },
  {
   "cell_type": "code",
   "execution_count": 79,
   "metadata": {},
   "outputs": [],
   "source": [
    "del x"
   ]
  },
  {
   "cell_type": "code",
   "execution_count": null,
   "metadata": {},
   "outputs": [],
   "source": []
  }
 ],
 "metadata": {
  "kernelspec": {
   "display_name": "bwsi_final",
   "language": "python",
   "name": "python3"
  },
  "language_info": {
   "codemirror_mode": {
    "name": "ipython",
    "version": 3
   },
   "file_extension": ".py",
   "mimetype": "text/x-python",
   "name": "python",
   "nbconvert_exporter": "python",
   "pygments_lexer": "ipython3",
   "version": "3.11.4"
  },
  "orig_nbformat": 4
 },
 "nbformat": 4,
 "nbformat_minor": 2
}
